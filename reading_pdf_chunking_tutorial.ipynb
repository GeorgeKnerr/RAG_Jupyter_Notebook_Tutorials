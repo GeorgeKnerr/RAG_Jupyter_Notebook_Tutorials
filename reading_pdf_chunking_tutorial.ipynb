{
 "cells": [
  {
   "cell_type": "markdown",
   "metadata": {},
   "source": [
    "# Reading a PDF and PDF Page Chunking\n",
    "\n",
    "In this tutorial, we'll learn how to:\n",
    "1. Load and read PDF documents using LangChain\n",
    "2. Extract text content from PDFs (See Example PDF Resources at the end of this Notebook)\n",
    "3. Understand how documents are automatically chunked\n",
    "4. Inspect document metadata\n",
    "\n",
    "This is a foundational skill for building RAG (Retrieval Augmented Generation) systems and other document processing applications."
   ]
  },
  {
   "cell_type": "markdown",
   "metadata": {},
   "source": [
    "## Step 1: Import Required Libraries\n",
    "\n",
    "We'll use:\n",
    "- `os`: For operating system interactions (file paths, environment variables)\n",
    "- `PyMuPDFLoader`: LangChain's document loader that uses the PyMuPDF library to read PDF files\n",
    "\n",
    "PyMuPDFLoader is particularly useful because it:\n",
    "- Extracts text page by page\n",
    "- Preserves document structure\n",
    "- Automatically creates Document objects with metadata"
   ]
  },
  {
   "cell_type": "code",
   "execution_count": 4,
   "metadata": {},
   "outputs": [],
   "source": [
    "# import libraries\n",
    "import os\n",
    "from langchain_community.document_loaders import PyMuPDFLoader"
   ]
  },
  {
   "cell_type": "markdown",
   "metadata": {},
   "source": [
    "## Step 2: Specify and Validate PDF File Path\n",
    "\n",
    "Set the path to your PDF file and validate it exists. Make sure to:\n",
    "- Use the correct file path for your system\n",
    "- Check that the file exists at the specified location\n",
    "- Use forward slashes (/) or escaped backslashes (\\\\\\\\) for Windows paths\n",
    "\n",
    "**Note:** Replace this path with your actual PDF file location."
   ]
  },
  {
   "cell_type": "code",
   "execution_count": 5,
   "metadata": {},
   "outputs": [
    {
     "name": "stdout",
     "output_type": "stream",
     "text": [
      "✅ PDF file found: ./data/41598_2020_Article_64454.pdf\n",
      "File size: 2240101 bytes\n"
     ]
    }
   ],
   "source": [
    "# Path to the uploaded PDF (replace with your actual file path)\n",
    "pdf_path = \"./data/41598_2020_Article_64454.pdf\"\n",
    "\n",
    "# Validate that the file exists\n",
    "if os.path.exists(pdf_path):\n",
    "    print(f\"✅ PDF file found: {pdf_path}\")\n",
    "    print(f\"File size: {os.path.getsize(pdf_path)} bytes\")\n",
    "else:\n",
    "    print(f\"❌ PDF file not found: {pdf_path}\")\n",
    "    print(\"Please check the file path and ensure the file exists.\")\n",
    "    # You might want to exit here or provide alternative file suggestions"
   ]
  },
  {
   "cell_type": "markdown",
   "metadata": {},
   "source": [
    "## Step 3: Define a Function to Load and Extract Text from PDF\n",
    "\n",
    "We'll create a reusable function that:\n",
    "1. Takes a PDF file path as input\n",
    "2. Uses PyMuPDFLoader to load the PDF\n",
    "3. Converts the PDF into LangChain's document format\n",
    "4. Returns the document chunks for further processing\n",
    "\n",
    "The loader automatically chunks the PDF by pages, creating one Document object per page."
   ]
  },
  {
   "cell_type": "code",
   "execution_count": 6,
   "metadata": {},
   "outputs": [],
   "source": [
    "def load_pdf_with_langchain(pdf_path):\n",
    "    \n",
    "    # Use LangChain's built-in loader\n",
    "    loader = PyMuPDFLoader(pdf_path)\n",
    "    \n",
    "    # Load the PDF into LangChain's document format\n",
    "    documents = loader.load()\n",
    "    \n",
    "    print(f\"Successfully loaded {len(documents)} document chunks from the PDF.\")\n",
    "    return documents"
   ]
  },
  {
   "cell_type": "markdown",
   "metadata": {},
   "source": [
    "## Step 4: Extract the Document Chunks\n",
    "\n",
    "Now we'll call our function to load the PDF and extract its content. The loader will:\n",
    "1. Read the PDF file\n",
    "2. Extract text from each page\n",
    "3. Create Document objects with page content and metadata\n",
    "4. Return a list of all document chunks (one per page)"
   ]
  },
  {
   "cell_type": "code",
   "execution_count": 8,
   "metadata": {},
   "outputs": [
    {
     "name": "stdout",
     "output_type": "stream",
     "text": [
      "Successfully loaded 13 document chunks from the PDF.\n"
     ]
    }
   ],
   "source": [
    "# Extract the document chunks\n",
    "docs = load_pdf_with_langchain(pdf_path)"
   ]
  },
  {
   "cell_type": "markdown",
   "metadata": {},
   "source": [
    "## Step 5: Inspect the Extracted Content\n",
    "\n",
    "Let's examine the first couple of chunks to understand what we extracted. For each chunk, we'll look at:\n",
    "- The chunk number\n",
    "- The first 500 characters of text content\n",
    "- The metadata (includes information like page number, source file, etc.)\n",
    "\n",
    "This helps us verify that the extraction worked correctly and understand the structure of our documents."
   ]
  },
  {
   "cell_type": "code",
   "execution_count": 9,
   "metadata": {},
   "outputs": [
    {
     "name": "stdout",
     "output_type": "stream",
     "text": [
      "\n",
      " Sample Extracted Content:\n",
      "\n",
      "--- Chunk 1 ---\n",
      "1\n",
      "Scientific Reports |         (2020) 10:7483  | https://doi.org/10.1038/s41598-020-64454-x\n",
      "www.nature.com/scientificreports\n",
      "Inhibitory action of \n",
      "phenothiazinium dyes against \n",
      "Neospora caninum\n",
      "Luiz Miguel Pereira1,2, Caroline Martins Mota   3, Luciana Baroni1,  \n",
      "Cássia Mariana Bronzon da Costa1, Jade Cabestre Venancio Brochi1, Mark Wainwright4, \n",
      "Tiago Wilson Patriarca Mineo   3, Gilberto Úbida Leite Braga1 & Ana Patrícia Yatsuda1,2 ✉\n",
      "Neospora caninum is an Apicomplexan parasite related to impor\n",
      "Metadata: {'producer': 'iText® 5.3.5 ©2000-2012 1T3XT BVBA (SPRINGER SBM; licensed version)', 'creator': 'Springer', 'creationdate': '2020-04-25T03:23:43+05:30', 'source': './data/41598_2020_Article_64454.pdf', 'file_path': './data/41598_2020_Article_64454.pdf', 'total_pages': 13, 'format': 'PDF 1.4', 'title': 'Inhibitory action of phenothiazinium dyes against Neospora caninum', 'author': 'Luiz Miguel Pereira', 'subject': 'Scientific Reports, doi:10.1038/s41598-020-64454-x', 'keywords': '', 'moddate': '2020-04-28T15:27:00+02:00', 'trapped': '', 'modDate': \"D:20200428152700+02'00'\", 'creationDate': \"D:20200425032343+05'30'\", 'page': 0}\n",
      "\n",
      "--- Chunk 2 ---\n",
      "2\n",
      "Scientific Reports |         (2020) 10:7483  | https://doi.org/10.1038/s41598-020-64454-x\n",
      "www.nature.com/scientificreports\n",
      "www.nature.com/scientificreports/\n",
      "candidates to treat parasitic diseases. Since the livestock industry is particularly sensitive to costs, inexpensive \n",
      "formulations based on phenothiazinium dyes have the potential to improve the outcomes in cattle affected by \n",
      "neosporosis. To this end, we have investigated the anti-parasitic effects of the phenothiaziums Methylene Blue, \n",
      "N\n",
      "Metadata: {'producer': 'iText® 5.3.5 ©2000-2012 1T3XT BVBA (SPRINGER SBM; licensed version)', 'creator': 'Springer', 'creationdate': '2020-04-25T03:23:43+05:30', 'source': './data/41598_2020_Article_64454.pdf', 'file_path': './data/41598_2020_Article_64454.pdf', 'total_pages': 13, 'format': 'PDF 1.4', 'title': 'Inhibitory action of phenothiazinium dyes against Neospora caninum', 'author': 'Luiz Miguel Pereira', 'subject': 'Scientific Reports, doi:10.1038/s41598-020-64454-x', 'keywords': '', 'moddate': '2020-04-28T15:27:00+02:00', 'trapped': '', 'modDate': \"D:20200428152700+02'00'\", 'creationDate': \"D:20200425032343+05'30'\", 'page': 1}\n"
     ]
    }
   ],
   "source": [
    "# Let's view the first couple of chunks to see what we got\n",
    "print(\"\\n Sample Extracted Content:\")\n",
    "for i, doc in enumerate(docs[:2]):\n",
    "    print(f\"\\n--- Chunk {i + 1} ---\")\n",
    "    print(doc.page_content[:500])  # Show first 500 characters\n",
    "    print(\"Metadata:\", doc.metadata)"
   ]
  },
  {
   "cell_type": "markdown",
   "metadata": {},
   "source": [
    "## Observation and Takeaways\n",
    "\n",
    "### What did we achieve?\n",
    "\n",
    "✅ **Successfully loaded a PDF** using LangChain's PyMuPDFLoader, which is powered by the PyMuPDF engine under the hood.\n",
    "\n",
    "✅ **The loader extracted the text page by page**, and wrapped each into a `Document` object with metadata (like page number and file name).\n",
    "\n",
    "### Key Points to Remember:\n",
    "\n",
    "1. **Page-based Chunking**: PyMuPDFLoader automatically chunks by pages, creating one Document object per page\n",
    "\n",
    "2. **Metadata Preservation**: Each chunk includes valuable metadata:\n",
    "   - `page`: The page number (0-indexed)\n",
    "   - `source`: The original file path\n",
    "   - Other PDF-specific information\n",
    "\n",
    "3. **Document Structure**: Each Document has:\n",
    "   - `page_content`: The actual text content\n",
    "   - `metadata`: Dictionary with additional information\n",
    "\n",
    "4. **Next Steps**: For RAG applications, you might want to:\n",
    "   - Split large pages into smaller chunks\n",
    "   - Create embeddings for semantic search\n",
    "   - Store in a vector database\n",
    "   - Implement retrieval mechanisms\n",
    "\n",
    "### Use Cases:\n",
    "- Building RAG (Retrieval Augmented Generation) systems\n",
    "- Document question-answering applications\n",
    "- Semantic search over PDF documents\n",
    "- Information extraction from PDF libraries"
   ]
  },
  {
   "cell_type": "markdown",
   "metadata": {},
   "source": [
    "## Medical PDF Documents for Use in Testing PDF Chunking:\n",
    "Here are some great sources for finding medical PDFs that are free and legal to use for your tutorial:\n",
    "\n",
    "**Government Health Organizations:**\n",
    "- **CDC (Centers for Disease Control)**: [cdc.gov](https://cdc.gov) - Tons of health reports, guidelines, and fact sheets\n",
    "- **NIH (National Institutes of Health)**: [nih.gov](https://nih.gov) - Research papers and health information\n",
    "- **WHO (World Health Organization)**: [who.int](https://who.int) - Global health reports and guidelines\n",
    "- **FDA**: [fda.gov](https://fda.gov) - Drug information, medical device reports\n",
    "\n",
    "**Open Access Medical Journals:**\n",
    "- **PubMed Central**: [ncbi.nlm.nih.gov/pmc](https://ncbi.nlm.nih.gov/pmc) - Free full-text medical research papers\n",
    "- **PLOS Medicine**: [journals.plos.org/plosmedicine](https://journals.plos.org/plosmedicine) - Open access medical journal\n",
    "- **BMC Medicine**: [biomedcentral.com](https://biomedcentral.com) - Open access articles\n",
    "\n",
    "**Medical Education Resources:**\n",
    "- **MedlinePlus**: [medlineplus.gov](https://medlineplus.gov) - Patient education materials\n",
    "- **OpenStax**: [openstax.org](https://openstax.org) - Free medical textbooks (like Anatomy & Physiology)\n",
    "\n",
    "**Specific Examples You Could Use:**\n",
    "- CDC COVID-19 guidelines\n",
    "- WHO disease outbreak reports\n",
    "- Medical research papers from PubMed Central\n",
    "- Clinical practice guidelines\n",
    "- Public health reports\n",
    "\n",
    "**Quick tip:** Most government health websites have a search function where you can add \"filetype:pdf\" to find PDF documents specifically.\n",
    "\n",
    "Would you like me to help you search for a specific type of medical document, or would you prefer recommendations for a particular medical topic?"
   ]
  },
  {
   "cell_type": "markdown",
   "metadata": {},
   "source": [
    "## Optional: Check Environment Variables (Warning: May Show Sensitive Data)\n",
    "\n",
    "⚠️ **Warning**: This step will display ALL environment variables, which may include sensitive information like API keys, passwords, or personal paths. \n",
    "\n",
    "**Only run this if:**\n",
    "- You're in a safe environment\n",
    "- You want to debug environment setup issues\n",
    "- You understand the security implications\n",
    "\n",
    "This can be useful for:\n",
    "- Verifying API keys are loaded\n",
    "- Checking Python paths\n",
    "- Debugging configuration issues"
   ]
  }
 ],
 "metadata": {
  "kernelspec": {
   "display_name": "Python 3 (ipykernel)",
   "language": "python",
   "name": "python3"
  }
 },
 "nbformat": 4,
 "nbformat_minor": 4
}
